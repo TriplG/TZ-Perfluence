{
 "cells": [
  {
   "cell_type": "code",
   "execution_count": 28,
   "metadata": {},
   "outputs": [
    {
     "name": "stdout",
     "output_type": "stream",
     "text": [
      "Collecting plotly\n",
      "  Obtaining dependency information for plotly from https://files.pythonhosted.org/packages/0b/f8/b65cdd2be32e442c4efe7b672f73c90b05eab5a7f3f4115efe181d432c60/plotly-5.22.0-py3-none-any.whl.metadata\n",
      "  Downloading plotly-5.22.0-py3-none-any.whl.metadata (7.1 kB)\n",
      "Collecting tenacity>=6.2.0 (from plotly)\n",
      "  Obtaining dependency information for tenacity>=6.2.0 from https://files.pythonhosted.org/packages/61/a1/6bb0cbebefb23641f068bb58a2bc56da9beb2b1c550242e3c540b37698f3/tenacity-8.3.0-py3-none-any.whl.metadata\n",
      "  Downloading tenacity-8.3.0-py3-none-any.whl.metadata (1.2 kB)\n",
      "Requirement already satisfied: packaging in c:\\users\\александр алейник\\appdata\\roaming\\python\\python312\\site-packages (from plotly) (23.2)\n",
      "Downloading plotly-5.22.0-py3-none-any.whl (16.4 MB)\n",
      "   ---------------------------------------- 0.0/16.4 MB ? eta -:--:--\n",
      "   ---------------------------------------- 0.0/16.4 MB ? eta -:--:--\n",
      "   ---------------------------------------- 0.0/16.4 MB 1.4 MB/s eta 0:00:12\n",
      "   ---------------------------------------- 0.1/16.4 MB 1.1 MB/s eta 0:00:15\n",
      "   ---------------------------------------- 0.2/16.4 MB 1.0 MB/s eta 0:00:16\n",
      "    --------------------------------------- 0.3/16.4 MB 1.4 MB/s eta 0:00:12\n",
      "    --------------------------------------- 0.3/16.4 MB 1.4 MB/s eta 0:00:12\n",
      "    --------------------------------------- 0.3/16.4 MB 1.4 MB/s eta 0:00:12\n",
      "    --------------------------------------- 0.3/16.4 MB 1.4 MB/s eta 0:00:12\n",
      "    --------------------------------------- 0.3/16.4 MB 1.4 MB/s eta 0:00:12\n",
      "    --------------------------------------- 0.3/16.4 MB 1.4 MB/s eta 0:00:12\n",
      "    --------------------------------------- 0.3/16.4 MB 1.4 MB/s eta 0:00:12\n",
      "    --------------------------------------- 0.3/16.4 MB 1.4 MB/s eta 0:00:12\n",
      "    --------------------------------------- 0.3/16.4 MB 1.4 MB/s eta 0:00:12\n",
      "    --------------------------------------- 0.3/16.4 MB 1.4 MB/s eta 0:00:12\n",
      "    --------------------------------------- 0.3/16.4 MB 1.4 MB/s eta 0:00:12\n",
      "    --------------------------------------- 0.3/16.4 MB 1.4 MB/s eta 0:00:12\n",
      "    --------------------------------------- 0.4/16.4 MB 516.2 kB/s eta 0:00:32\n",
      "   - -------------------------------------- 0.6/16.4 MB 734.2 kB/s eta 0:00:22\n",
      "   - -------------------------------------- 0.6/16.4 MB 734.2 kB/s eta 0:00:22\n",
      "   - -------------------------------------- 0.6/16.4 MB 667.3 kB/s eta 0:00:24\n",
      "   - -------------------------------------- 0.6/16.4 MB 656.0 kB/s eta 0:00:25\n",
      "   - -------------------------------------- 0.6/16.4 MB 645.2 kB/s eta 0:00:25\n",
      "   - -------------------------------------- 0.7/16.4 MB 695.2 kB/s eta 0:00:23\n",
      "   -- ------------------------------------- 0.8/16.4 MB 759.9 kB/s eta 0:00:21\n",
      "   -- ------------------------------------- 1.0/16.4 MB 849.5 kB/s eta 0:00:19\n",
      "   -- ------------------------------------- 1.1/16.4 MB 926.9 kB/s eta 0:00:17\n",
      "   -- ------------------------------------- 1.2/16.4 MB 978.9 kB/s eta 0:00:16\n",
      "   --- ------------------------------------ 1.3/16.4 MB 1.0 MB/s eta 0:00:15\n",
      "   --- ------------------------------------ 1.5/16.4 MB 1.1 MB/s eta 0:00:14\n",
      "   --- ------------------------------------ 1.6/16.4 MB 1.2 MB/s eta 0:00:13\n",
      "   ---- ----------------------------------- 1.8/16.4 MB 1.3 MB/s eta 0:00:12\n",
      "   ---- ----------------------------------- 1.9/16.4 MB 1.3 MB/s eta 0:00:11\n",
      "   ----- ---------------------------------- 2.1/16.4 MB 1.4 MB/s eta 0:00:11\n",
      "   ----- ---------------------------------- 2.2/16.4 MB 1.4 MB/s eta 0:00:11\n",
      "   ----- ---------------------------------- 2.3/16.4 MB 1.4 MB/s eta 0:00:10\n",
      "   ------ --------------------------------- 2.5/16.4 MB 1.5 MB/s eta 0:00:10\n",
      "   ------ --------------------------------- 2.6/16.4 MB 1.6 MB/s eta 0:00:09\n",
      "   ------ --------------------------------- 2.8/16.4 MB 1.6 MB/s eta 0:00:09\n",
      "   ------- -------------------------------- 2.9/16.4 MB 1.6 MB/s eta 0:00:09\n",
      "   ------- -------------------------------- 3.1/16.4 MB 1.7 MB/s eta 0:00:08\n",
      "   ------- -------------------------------- 3.2/16.4 MB 1.7 MB/s eta 0:00:08\n",
      "   -------- ------------------------------- 3.4/16.4 MB 1.8 MB/s eta 0:00:08\n",
      "   -------- ------------------------------- 3.5/16.4 MB 1.8 MB/s eta 0:00:08\n",
      "   --------- ------------------------------ 3.7/16.4 MB 1.9 MB/s eta 0:00:07\n",
      "   --------- ------------------------------ 4.0/16.4 MB 1.9 MB/s eta 0:00:07\n",
      "   --------- ------------------------------ 4.1/16.4 MB 1.9 MB/s eta 0:00:07\n",
      "   ---------- ----------------------------- 4.2/16.4 MB 2.0 MB/s eta 0:00:07\n",
      "   ---------- ----------------------------- 4.4/16.4 MB 2.0 MB/s eta 0:00:07\n",
      "   ----------- ---------------------------- 4.6/16.4 MB 2.0 MB/s eta 0:00:06\n",
      "   ----------- ---------------------------- 4.6/16.4 MB 2.0 MB/s eta 0:00:06\n",
      "   ----------- ---------------------------- 4.9/16.4 MB 2.1 MB/s eta 0:00:06\n",
      "   ------------ --------------------------- 5.0/16.4 MB 2.1 MB/s eta 0:00:06\n",
      "   ------------ --------------------------- 5.1/16.4 MB 2.1 MB/s eta 0:00:06\n",
      "   ------------ --------------------------- 5.3/16.4 MB 2.1 MB/s eta 0:00:06\n",
      "   ------------- -------------------------- 5.4/16.4 MB 2.1 MB/s eta 0:00:06\n",
      "   ------------- -------------------------- 5.5/16.4 MB 2.1 MB/s eta 0:00:06\n",
      "   ------------- -------------------------- 5.6/16.4 MB 2.1 MB/s eta 0:00:06\n",
      "   -------------- ------------------------- 5.8/16.4 MB 2.2 MB/s eta 0:00:05\n",
      "   -------------- ------------------------- 5.8/16.4 MB 2.2 MB/s eta 0:00:05\n",
      "   -------------- ------------------------- 6.0/16.4 MB 2.2 MB/s eta 0:00:05\n",
      "   -------------- ------------------------- 6.0/16.4 MB 2.2 MB/s eta 0:00:05\n",
      "   -------------- ------------------------- 6.1/16.4 MB 2.1 MB/s eta 0:00:05\n",
      "   --------------- ------------------------ 6.2/16.4 MB 2.1 MB/s eta 0:00:05\n",
      "   --------------- ------------------------ 6.3/16.4 MB 2.2 MB/s eta 0:00:05\n",
      "   --------------- ------------------------ 6.5/16.4 MB 2.2 MB/s eta 0:00:05\n",
      "   ---------------- ----------------------- 6.6/16.4 MB 2.2 MB/s eta 0:00:05\n",
      "   ---------------- ----------------------- 6.7/16.4 MB 2.2 MB/s eta 0:00:05\n",
      "   ---------------- ----------------------- 6.9/16.4 MB 2.2 MB/s eta 0:00:05\n",
      "   ----------------- ---------------------- 7.0/16.4 MB 2.2 MB/s eta 0:00:05\n",
      "   ----------------- ---------------------- 7.1/16.4 MB 2.2 MB/s eta 0:00:05\n",
      "   ----------------- ---------------------- 7.3/16.4 MB 2.2 MB/s eta 0:00:05\n",
      "   ------------------ --------------------- 7.4/16.4 MB 2.2 MB/s eta 0:00:05\n",
      "   ------------------ --------------------- 7.5/16.4 MB 2.2 MB/s eta 0:00:04\n",
      "   ------------------ --------------------- 7.7/16.4 MB 2.2 MB/s eta 0:00:04\n",
      "   ------------------ --------------------- 7.7/16.4 MB 2.2 MB/s eta 0:00:04\n",
      "   ------------------- -------------------- 7.8/16.4 MB 2.2 MB/s eta 0:00:04\n",
      "   ------------------- -------------------- 7.9/16.4 MB 2.2 MB/s eta 0:00:04\n",
      "   ------------------- -------------------- 8.0/16.4 MB 2.2 MB/s eta 0:00:04\n",
      "   ------------------- -------------------- 8.1/16.4 MB 2.2 MB/s eta 0:00:04\n",
      "   -------------------- ------------------- 8.2/16.4 MB 2.2 MB/s eta 0:00:04\n",
      "   -------------------- ------------------- 8.4/16.4 MB 2.2 MB/s eta 0:00:04\n",
      "   -------------------- ------------------- 8.5/16.4 MB 2.3 MB/s eta 0:00:04\n",
      "   --------------------- ------------------ 8.6/16.4 MB 2.3 MB/s eta 0:00:04\n",
      "   --------------------- ------------------ 8.8/16.4 MB 2.3 MB/s eta 0:00:04\n",
      "   --------------------- ------------------ 8.9/16.4 MB 2.3 MB/s eta 0:00:04\n",
      "   --------------------- ------------------ 8.9/16.4 MB 2.3 MB/s eta 0:00:04\n",
      "   ---------------------- ----------------- 9.1/16.4 MB 2.3 MB/s eta 0:00:04\n",
      "   ---------------------- ----------------- 9.2/16.4 MB 2.3 MB/s eta 0:00:04\n",
      "   ---------------------- ----------------- 9.3/16.4 MB 2.3 MB/s eta 0:00:04\n",
      "   ----------------------- ---------------- 9.5/16.4 MB 2.3 MB/s eta 0:00:04\n",
      "   ----------------------- ---------------- 9.6/16.4 MB 2.3 MB/s eta 0:00:03\n",
      "   ----------------------- ---------------- 9.7/16.4 MB 2.3 MB/s eta 0:00:03\n",
      "   ------------------------ --------------- 9.9/16.4 MB 2.3 MB/s eta 0:00:03\n",
      "   ------------------------ --------------- 10.0/16.4 MB 2.3 MB/s eta 0:00:03\n",
      "   ------------------------ --------------- 10.1/16.4 MB 2.3 MB/s eta 0:00:03\n",
      "   ------------------------- -------------- 10.3/16.4 MB 2.3 MB/s eta 0:00:03\n",
      "   ------------------------- -------------- 10.4/16.4 MB 2.4 MB/s eta 0:00:03\n",
      "   ------------------------- -------------- 10.6/16.4 MB 2.7 MB/s eta 0:00:03\n",
      "   -------------------------- ------------- 10.7/16.4 MB 2.7 MB/s eta 0:00:03\n",
      "   -------------------------- ------------- 10.9/16.4 MB 2.8 MB/s eta 0:00:02\n",
      "   -------------------------- ------------- 11.0/16.4 MB 2.8 MB/s eta 0:00:02\n",
      "   --------------------------- ------------ 11.1/16.4 MB 2.8 MB/s eta 0:00:02\n",
      "   --------------------------- ------------ 11.3/16.4 MB 2.8 MB/s eta 0:00:02\n",
      "   --------------------------- ------------ 11.4/16.4 MB 2.8 MB/s eta 0:00:02\n",
      "   ---------------------------- ----------- 11.5/16.4 MB 2.9 MB/s eta 0:00:02\n",
      "   ---------------------------- ----------- 11.7/16.4 MB 2.9 MB/s eta 0:00:02\n",
      "   ---------------------------- ----------- 11.8/16.4 MB 2.9 MB/s eta 0:00:02\n",
      "   ----------------------------- ---------- 11.9/16.4 MB 2.8 MB/s eta 0:00:02\n",
      "   ----------------------------- ---------- 12.1/16.4 MB 2.8 MB/s eta 0:00:02\n",
      "   ----------------------------- ---------- 12.2/16.4 MB 2.8 MB/s eta 0:00:02\n",
      "   ------------------------------ --------- 12.4/16.4 MB 2.9 MB/s eta 0:00:02\n",
      "   ------------------------------ --------- 12.5/16.4 MB 2.9 MB/s eta 0:00:02\n",
      "   ------------------------------ --------- 12.7/16.4 MB 2.9 MB/s eta 0:00:02\n",
      "   ------------------------------- -------- 12.8/16.4 MB 2.9 MB/s eta 0:00:02\n",
      "   ------------------------------- -------- 13.0/16.4 MB 2.9 MB/s eta 0:00:02\n",
      "   ------------------------------- -------- 13.1/16.4 MB 2.9 MB/s eta 0:00:02\n",
      "   -------------------------------- ------- 13.3/16.4 MB 2.9 MB/s eta 0:00:02\n",
      "   -------------------------------- ------- 13.4/16.4 MB 2.9 MB/s eta 0:00:02\n",
      "   --------------------------------- ------ 13.6/16.4 MB 2.9 MB/s eta 0:00:01\n",
      "   --------------------------------- ------ 13.8/16.4 MB 2.9 MB/s eta 0:00:01\n",
      "   --------------------------------- ------ 13.9/16.4 MB 2.9 MB/s eta 0:00:01\n",
      "   ---------------------------------- ----- 14.0/16.4 MB 2.8 MB/s eta 0:00:01\n",
      "   ---------------------------------- ----- 14.2/16.4 MB 2.8 MB/s eta 0:00:01\n",
      "   ---------------------------------- ----- 14.3/16.4 MB 2.8 MB/s eta 0:00:01\n",
      "   ----------------------------------- ---- 14.4/16.4 MB 2.8 MB/s eta 0:00:01\n",
      "   ----------------------------------- ---- 14.6/16.4 MB 2.8 MB/s eta 0:00:01\n",
      "   ----------------------------------- ---- 14.7/16.4 MB 2.8 MB/s eta 0:00:01\n",
      "   ------------------------------------ --- 14.9/16.4 MB 2.9 MB/s eta 0:00:01\n",
      "   ------------------------------------ --- 15.1/16.4 MB 2.8 MB/s eta 0:00:01\n",
      "   ------------------------------------- -- 15.2/16.4 MB 2.8 MB/s eta 0:00:01\n",
      "   ------------------------------------- -- 15.4/16.4 MB 2.9 MB/s eta 0:00:01\n",
      "   ------------------------------------- -- 15.5/16.4 MB 2.9 MB/s eta 0:00:01\n",
      "   -------------------------------------- - 15.7/16.4 MB 2.9 MB/s eta 0:00:01\n",
      "   -------------------------------------- - 15.9/16.4 MB 2.9 MB/s eta 0:00:01\n",
      "   ---------------------------------------  16.0/16.4 MB 2.9 MB/s eta 0:00:01\n",
      "   ---------------------------------------  16.2/16.4 MB 2.9 MB/s eta 0:00:01\n",
      "   ---------------------------------------  16.3/16.4 MB 3.0 MB/s eta 0:00:01\n",
      "   ---------------------------------------  16.4/16.4 MB 3.0 MB/s eta 0:00:01\n",
      "   ---------------------------------------- 16.4/16.4 MB 2.9 MB/s eta 0:00:00\n",
      "Downloading tenacity-8.3.0-py3-none-any.whl (25 kB)\n",
      "Installing collected packages: tenacity, plotly\n",
      "Successfully installed plotly-5.22.0 tenacity-8.3.0\n"
     ]
    },
    {
     "name": "stderr",
     "output_type": "stream",
     "text": [
      "\n",
      "[notice] A new release of pip is available: 23.2.1 -> 24.0\n",
      "[notice] To update, run: python.exe -m pip install --upgrade pip\n"
     ]
    }
   ],
   "source": [
    "! pip install plotly"
   ]
  },
  {
   "cell_type": "code",
   "execution_count": 98,
   "metadata": {},
   "outputs": [],
   "source": [
    "import pandas as pd\n",
    "import datetime\n",
    "from datetime import datetime, date\n",
    "\n",
    "import numpy as np\n",
    "import matplotlib.pyplot as plt\n",
    "from matplotlib import font_manager as fm\n",
    "import plotly.express as px\n",
    "from matplotlib.gridspec import GridSpec\n"
   ]
  },
  {
   "cell_type": "code",
   "execution_count": 64,
   "metadata": {},
   "outputs": [],
   "source": [
    "df = pd.read_excel('test_project.xlsx')"
   ]
  },
  {
   "cell_type": "markdown",
   "metadata": {},
   "source": [
    "### Блок 1. Первичный анализ датасета"
   ]
  },
  {
   "cell_type": "code",
   "execution_count": 6,
   "metadata": {},
   "outputs": [
    {
     "name": "stdout",
     "output_type": "stream",
     "text": [
      "Кол-во строк:  26552\n",
      "Кол-во столбцов:  5\n"
     ]
    }
   ],
   "source": [
    "print('Кол-во строк: ', df.shape[0])\n",
    "print('Кол-во столбцов: ', df.shape[1])"
   ]
  },
  {
   "cell_type": "code",
   "execution_count": 4,
   "metadata": {},
   "outputs": [
    {
     "data": {
      "text/html": [
       "<div>\n",
       "<style scoped>\n",
       "    .dataframe tbody tr th:only-of-type {\n",
       "        vertical-align: middle;\n",
       "    }\n",
       "\n",
       "    .dataframe tbody tr th {\n",
       "        vertical-align: top;\n",
       "    }\n",
       "\n",
       "    .dataframe thead th {\n",
       "        text-align: right;\n",
       "    }\n",
       "</style>\n",
       "<table border=\"1\" class=\"dataframe\">\n",
       "  <thead>\n",
       "    <tr style=\"text-align: right;\">\n",
       "      <th></th>\n",
       "      <th>event_type</th>\n",
       "      <th>event_properties</th>\n",
       "      <th>platform</th>\n",
       "      <th>user_id</th>\n",
       "      <th>date_event</th>\n",
       "    </tr>\n",
       "  </thead>\n",
       "  <tbody>\n",
       "    <tr>\n",
       "      <th>0</th>\n",
       "      <td>link_account_start</td>\n",
       "      <td>{\"network\": \"instagram\"}</td>\n",
       "      <td>Android</td>\n",
       "      <td>732723.0</td>\n",
       "      <td>2024-04-01 00:00:20.072</td>\n",
       "    </tr>\n",
       "    <tr>\n",
       "      <th>1</th>\n",
       "      <td>email_confirmation_page</td>\n",
       "      <td>{}</td>\n",
       "      <td>Android</td>\n",
       "      <td>732328.0</td>\n",
       "      <td>2024-04-01 00:00:27.667</td>\n",
       "    </tr>\n",
       "    <tr>\n",
       "      <th>2</th>\n",
       "      <td>view_signup_2_personal</td>\n",
       "      <td>{}</td>\n",
       "      <td>Android</td>\n",
       "      <td>732724.0</td>\n",
       "      <td>2024-04-01 00:01:53.544</td>\n",
       "    </tr>\n",
       "    <tr>\n",
       "      <th>3</th>\n",
       "      <td>view_signup_2_personal</td>\n",
       "      <td>{}</td>\n",
       "      <td>Android</td>\n",
       "      <td>732725.0</td>\n",
       "      <td>2024-04-01 00:02:07.050</td>\n",
       "    </tr>\n",
       "    <tr>\n",
       "      <th>4</th>\n",
       "      <td>view_signup_3_contact</td>\n",
       "      <td>{}</td>\n",
       "      <td>Android</td>\n",
       "      <td>732724.0</td>\n",
       "      <td>2024-04-01 00:03:03.845</td>\n",
       "    </tr>\n",
       "  </tbody>\n",
       "</table>\n",
       "</div>"
      ],
      "text/plain": [
       "                event_type          event_properties platform   user_id  \\\n",
       "0       link_account_start  {\"network\": \"instagram\"}  Android  732723.0   \n",
       "1  email_confirmation_page                        {}  Android  732328.0   \n",
       "2   view_signup_2_personal                        {}  Android  732724.0   \n",
       "3   view_signup_2_personal                        {}  Android  732725.0   \n",
       "4    view_signup_3_contact                        {}  Android  732724.0   \n",
       "\n",
       "                date_event  \n",
       "0  2024-04-01 00:00:20.072  \n",
       "1  2024-04-01 00:00:27.667  \n",
       "2  2024-04-01 00:01:53.544  \n",
       "3  2024-04-01 00:02:07.050  \n",
       "4  2024-04-01 00:03:03.845  "
      ]
     },
     "execution_count": 4,
     "metadata": {},
     "output_type": "execute_result"
    }
   ],
   "source": [
    "# Первые 5 строк датасета\n",
    "df.head()"
   ]
  },
  {
   "cell_type": "code",
   "execution_count": 9,
   "metadata": {},
   "outputs": [
    {
     "name": "stdout",
     "output_type": "stream",
     "text": [
      "<class 'pandas.core.frame.DataFrame'>\n",
      "RangeIndex: 26552 entries, 0 to 26551\n",
      "Data columns (total 5 columns):\n",
      " #   Column            Non-Null Count  Dtype  \n",
      "---  ------            --------------  -----  \n",
      " 0   event_type        26552 non-null  object \n",
      " 1   event_properties  26552 non-null  object \n",
      " 2   platform          26552 non-null  object \n",
      " 3   user_id           26529 non-null  float64\n",
      " 4   date_event        26552 non-null  object \n",
      "dtypes: float64(1), object(4)\n",
      "memory usage: 1.0+ MB\n"
     ]
    }
   ],
   "source": [
    "# Полная информация по каждому столбцу\n",
    "df.info()"
   ]
  },
  {
   "cell_type": "markdown",
   "metadata": {},
   "source": [
    "Выводы по блоку 1:\n",
    "\n",
    "1) Общее кол-во данных составляет 26552 строк и 5 столбцов\n",
    "\n",
    "2) Данные не имеют пропуски, предобработка данных не требуется"
   ]
  },
  {
   "cell_type": "markdown",
   "metadata": {},
   "source": [
    "### Блок 2. Дата и время"
   ]
  },
  {
   "cell_type": "code",
   "execution_count": 18,
   "metadata": {},
   "outputs": [
    {
     "name": "stdout",
     "output_type": "stream",
     "text": [
      "Минимальная дата и время: 2024-04-01 00:00:20\n",
      "Максимальная дата и время: 2024-04-10 23:56:37\n"
     ]
    }
   ],
   "source": [
    "#datetime.datetime.strptime(df['date_event'].max(), '%Y-%m-%d %H:%M:%S.%f')\n",
    "print(f\"Минимальная дата и время: {df['date_event'].min()[0:-4]}\") \n",
    "print(f\"Максимальная дата и время: {df['date_event'].max()[0:-4]}\")"
   ]
  },
  {
   "cell_type": "markdown",
   "metadata": {},
   "source": [
    "<span style=\"color:red\">\n",
    "Все выводы и гипотезы представленные ниже сделаны на основе представленных данных (в период с 1 по 10 апреля)\n",
    "</span>."
   ]
  },
  {
   "cell_type": "code",
   "execution_count": 8,
   "metadata": {},
   "outputs": [
    {
     "data": {
      "image/png": "[encoded data removed]",
      "text/plain": [
       "<Figure size 1200x800 with 1 Axes>"
      ]
     },
     "metadata": {},
     "output_type": "display_data"
    }
   ],
   "source": [
    "# Визуализация по количеству действий пользователей по датам\n",
    "dates_df = df['date_event'].apply(lambda x: x[:10])\n",
    "\n",
    "x = dates_df.groupby(dates_df).count()\n",
    "y = dates_df.unique() \n",
    "\n",
    "\n",
    "fig = plt.figure(figsize=(12, 8))\n",
    "fig.suptitle('Количество действий пользователей по датам', fontsize=18)\n",
    "ax = fig.add_subplot()\n",
    " \n",
    "#ax.hist(y)\n",
    "ax.bar(y, x)\n",
    "ax.grid()\n",
    " \n",
    "plt.show()"
   ]
  },
  {
   "cell_type": "code",
   "execution_count": 7,
   "metadata": {},
   "outputs": [
    {
     "data": {
      "image/png": "[encoded data removed]",
      "text/plain": [
       "<Figure size 1600x800 with 1 Axes>"
      ]
     },
     "metadata": {},
     "output_type": "display_data"
    }
   ],
   "source": [
    "# Визуализация по количеству действий пользователей по часам\n",
    "def times_count_event(date_event):\n",
    "    hour_event = datetime.datetime.strptime(date_event, '%Y-%m-%d %H:%M:%S.%f').hour\n",
    "    return hour_event\n",
    "\n",
    "times_df = df['date_event'].apply(lambda x: times_count_event(x))\n",
    "\n",
    "x = times_df.groupby(times_df).count()\n",
    "y = times_df.unique() \n",
    "\n",
    "\n",
    "fig = plt.figure(figsize=(16, 8))\n",
    "fig.suptitle('Количество действий пользователей по часам', fontsize=18)\n",
    "ax = fig.add_subplot()\n",
    " \n",
    "ax.bar(y, x)\n",
    "ax.grid()\n",
    " \n",
    "plt.show()"
   ]
  },
  {
   "cell_type": "code",
   "execution_count": 102,
   "metadata": {},
   "outputs": [
    {
     "data": {
      "image/png": "[encoded data removed]",
      "text/plain": [
       "<Figure size 1200x800 with 1 Axes>"
      ]
     },
     "metadata": {},
     "output_type": "display_data"
    }
   ],
   "source": [
    "dates_df = df[df['event_type']=='link_account_success']['date_event'].apply(lambda x: x[:10])\n",
    "\n",
    "x = dates_df.groupby(dates_df).count()\n",
    "y = dates_df.unique() \n",
    "\n",
    "\n",
    "fig = plt.figure(figsize=(12, 8))\n",
    "fig.suptitle('Кол-во успешных привязок соц-сетей в разбивке по датам', fontsize=18)\n",
    "ax = fig.add_subplot()\n",
    " \n",
    "#ax.hist(y)\n",
    "ax.bar(y, x)\n",
    "ax.grid()\n",
    " \n",
    "plt.show()"
   ]
  },
  {
   "cell_type": "code",
   "execution_count": 104,
   "metadata": {},
   "outputs": [
    {
     "data": {
      "image/png": "[encoded data removed]",
      "text/plain": [
       "<Figure size 1600x800 with 1 Axes>"
      ]
     },
     "metadata": {},
     "output_type": "display_data"
    }
   ],
   "source": [
    "def times_count_event(date_event):\n",
    "    hour_event = datetime.strptime(date_event, '%Y-%m-%d %H:%M:%S.%f').hour\n",
    "    return hour_event\n",
    "\n",
    "times_df = df[df['event_type']=='link_account_success']['date_event'].apply(lambda x: times_count_event(x))\n",
    "\n",
    "x = times_df.groupby(times_df).count()\n",
    "y = times_df.unique() \n",
    "\n",
    "\n",
    "fig = plt.figure(figsize=(16, 8))\n",
    "fig.suptitle('Кол-во успешных привязок соц-сетей в разбивке по часам', fontsize=18)\n",
    "ax = fig.add_subplot()\n",
    " \n",
    "ax.bar(y, x)\n",
    "ax.grid()\n",
    " \n",
    "plt.show()"
   ]
  },
  {
   "cell_type": "code",
   "execution_count": 85,
   "metadata": {},
   "outputs": [
    {
     "name": "stderr",
     "output_type": "stream",
     "text": [
      "C:\\Users\\Александр Алейник\\AppData\\Local\\Temp\\ipykernel_20024\\1432978550.py:8: SettingWithCopyWarning: \n",
      "A value is trying to be set on a copy of a slice from a DataFrame.\n",
      "Try using .loc[row_indexer,col_indexer] = value instead\n",
      "\n",
      "See the caveats in the documentation: https://pandas.pydata.org/pandas-docs/stable/user_guide/indexing.html#returning-a-view-versus-a-copy\n",
      "  account_success['data_start'] = list(account_start['date_event'])\n",
      "C:\\Users\\Александр Алейник\\AppData\\Local\\Temp\\ipykernel_20024\\1432978550.py:18: SettingWithCopyWarning: \n",
      "A value is trying to be set on a copy of a slice from a DataFrame.\n",
      "Try using .loc[row_indexer,col_indexer] = value instead\n",
      "\n",
      "See the caveats in the documentation: https://pandas.pydata.org/pandas-docs/stable/user_guide/indexing.html#returning-a-view-versus-a-copy\n",
      "  account_success['dif_time'] = account_success.apply(\n"
     ]
    }
   ],
   "source": [
    "# Подсчет среднего времени успешной привязки соц-сети после начала привязки по всем юзерам\n",
    "account_df = df[df['event_type'].isin(['link_account_success', 'link_account_start'])]\n",
    "account_df = account_df.sort_values(['user_id', 'event_properties', 'date_event']).reset_index(drop=True)\n",
    "\n",
    "account_success = account_df[account_df['event_type']=='link_account_success']\n",
    "account_start = account_df.iloc[account_success.index-1]\n",
    "\n",
    "account_success['data_start'] = list(account_start['date_event'])\n",
    "\n",
    "\n",
    "def time_apply(dt):\n",
    "    return datetime.strptime(dt, '%Y-%m-%d %H:%M:%S.%f')\n",
    "\n",
    "\n",
    "account_success['dif_time'] = account_success.apply(\n",
    "    lambda x: (time_apply(x['date_event']) - time_apply(x['data_start'])).total_seconds(),\n",
    "        axis=1)"
   ]
  },
  {
   "cell_type": "code",
   "execution_count": 99,
   "metadata": {},
   "outputs": [
    {
     "name": "stdout",
     "output_type": "stream",
     "text": [
      "Среднее кол-во времени привязки соц-сети(c): 3680.506977105831\n",
      "Среднее кол-во времени привязки соц-сети(м): 61.341782951763854\n",
      "Среднее кол-во времени привязки соц-сети(ч): 1.0223630491960645\n"
     ]
    }
   ],
   "source": [
    "time_dict = {'c':1, 'м':60, 'ч':3600}\n",
    "\n",
    "for key, value in time_dict.items():\n",
    "    print(f'Среднее кол-во времени привязки соц-сети({key}): \\\n",
    "{account_success['dif_time'].apply(lambda x: x/value).mean()}')"
   ]
  },
  {
   "cell_type": "markdown",
   "metadata": {},
   "source": [
    "#### Выводы по блоку 2:\n",
    "\n",
    "1) Данные находятся во временном диапазоне **с 1 по 10 апреля**.\n",
    "\n",
    "2) Распределение всего кол-ва целевых действий и действий по успешной привязке      соц-сети юзерами имеет приблизительно одинаковое распределение.\n",
    "\n",
    "3) Анализируя графики целевых действий по датам, можно предположить, что активность поользователей **падает в течении недели и резко возрастает в понедельник**.\n",
    "\n",
    "4) Наблюдается низкая пользовательская активность **ночью и ранним утром**.\n",
    "\n",
    "5) Время от начала привязки соц. сети до успешной привязки в среднем составляет **один час**"
   ]
  },
  {
   "cell_type": "markdown",
   "metadata": {},
   "source": [
    "### Блок 3. ОС"
   ]
  },
  {
   "cell_type": "code",
   "execution_count": 4,
   "metadata": {},
   "outputs": [
    {
     "data": {
      "text/plain": [
       "([<matplotlib.patches.Wedge at 0x2c8067e6ed0>,\n",
       "  <matplotlib.patches.Wedge at 0x2c80676ffe0>],\n",
       " [Text(-0.6462294179300218, 0.8901615243324243, 'Android'),\n",
       "  Text(0.6462294179300216, -0.8901615243324245, 'iOS')],\n",
       " [Text(-0.35248877341637547, 0.4855426496358678, '70%'),\n",
       "  Text(0.3524887734163754, -0.48554264963586785, '30%')])"
      ]
     },
     "execution_count": 4,
     "metadata": {},
     "output_type": "execute_result"
    },
    {
     "data": {
      "image/png": "[encoded data removed]",
      "text/plain": [
       "<Figure size 500x500 with 1 Axes>"
      ]
     },
     "metadata": {},
     "output_type": "display_data"
    }
   ],
   "source": [
    "os_df = df[['user_id', 'platform']].drop_duplicates()\n",
    "vals = os_df['platform'].value_counts().unique()\n",
    "labels = os_df['platform'].value_counts().index\n",
    "\n",
    "fig = plt.figure(figsize=(5,5))\n",
    "fig.suptitle('Распределение ОС по пользователям')\n",
    "ax = fig.add_subplot()\n",
    "ax.pie(vals, labels=labels, autopct='%1.0f%%')"
   ]
  },
  {
   "cell_type": "code",
   "execution_count": 32,
   "metadata": {},
   "outputs": [],
   "source": [
    "andr_user_all = len(df[df['platform']=='Android']['user_id'].unique())\n",
    "andr_user_true = len(df[(df['platform']=='Android')\\\n",
    "                    & (df['event_type']=='link_account_success')]['user_id'].unique())\n",
    "\n",
    "ios_user_all = len(df[df['platform']=='iOS']['user_id'].unique())\n",
    "ios_user_true = len(df[(df['platform']=='iOS')\\\n",
    "                    & (df['event_type']=='link_account_success')]['user_id'].unique())\n"
   ]
  },
  {
   "cell_type": "code",
   "execution_count": 59,
   "metadata": {},
   "outputs": [
    {
     "data": {
      "application/vnd.plotly.v1+json": {
       "config": {
        "plotlyServerURL": "https://plot.ly"
       },
       "data": [
        {
         "hovertemplate": "OS=Android<br>number=%{x}<br>stage=%{y}<extra></extra>",
         "legendgroup": "Android",
         "marker": {
          "color": "#636efa"
         },
         "name": "Android",
         "orientation": "h",
         "showlegend": true,
         "type": "funnel",
         "x": [
          3512,
          1348
         ],
         "xaxis": "x",
         "y": [
          "Общее кол-во юзеров",
          "Кол-во юзеров привязало соц. сеть"
         ],
         "yaxis": "y"
        },
        {
         "hovertemplate": "OS=IOS<br>number=%{x}<br>stage=%{y}<extra></extra>",
         "legendgroup": "IOS",
         "marker": {
          "color": "#EF553B"
         },
         "name": "IOS",
         "orientation": "h",
         "showlegend": true,
         "type": "funnel",
         "x": [
          1506,
          900
         ],
         "xaxis": "x",
         "y": [
          "Общее кол-во юзеров",
          "Кол-во юзеров привязало соц. сеть"
         ],
         "yaxis": "y"
        }
       ],
       "layout": {
        "legend": {
         "title": {
          "text": "OS"
         },
         "tracegroupgap": 0
        },
        "template": {
         "data": {
          "bar": [
           {
            "error_x": {
             "color": "#2a3f5f"
            },
            "error_y": {
             "color": "#2a3f5f"
            },
            "marker": {
             "line": {
              "color": "#E5ECF6",
              "width": 0.5
             },
             "pattern": {
              "fillmode": "overlay",
              "size": 10,
              "solidity": 0.2
             }
            },
            "type": "bar"
           }
          ],
          "barpolar": [
           {
            "marker": {
             "line": {
              "color": "#E5ECF6",
              "width": 0.5
             },
             "pattern": {
              "fillmode": "overlay",
              "size": 10,
              "solidity": 0.2
             }
            },
            "type": "barpolar"
           }
          ],
          "carpet": [
           {
            "aaxis": {
             "endlinecolor": "#2a3f5f",
             "gridcolor": "white",
             "linecolor": "white",
             "minorgridcolor": "white",
             "startlinecolor": "#2a3f5f"
            },
            "baxis": {
             "endlinecolor": "#2a3f5f",
             "gridcolor": "white",
             "linecolor": "white",
             "minorgridcolor": "white",
             "startlinecolor": "#2a3f5f"
            },
            "type": "carpet"
           }
          ],
          "choropleth": [
           {
            "colorbar": {
             "outlinewidth": 0,
             "ticks": ""
            },
            "type": "choropleth"
           }
          ],
          "contour": [
           {
            "colorbar": {
             "outlinewidth": 0,
             "ticks": ""
            },
            "colorscale": [
             [
              0,
              "#0d0887"
             ],
             [
              0.1111111111111111,
              "#46039f"
             ],
             [
              0.2222222222222222,
              "#7201a8"
             ],
             [
              0.3333333333333333,
              "#9c179e"
             ],
             [
              0.4444444444444444,
              "#bd3786"
             ],
             [
              0.5555555555555556,
              "#d8576b"
             ],
             [
              0.6666666666666666,
              "#ed7953"
             ],
             [
              0.7777777777777778,
              "#fb9f3a"
             ],
             [
              0.8888888888888888,
              "#fdca26"
             ],
             [
              1,
              "#f0f921"
             ]
            ],
            "type": "contour"
           }
          ],
          "contourcarpet": [
           {
            "colorbar": {
             "outlinewidth": 0,
             "ticks": ""
            },
            "type": "contourcarpet"
           }
          ],
          "heatmap": [
           {
            "colorbar": {
             "outlinewidth": 0,
             "ticks": ""
            },
            "colorscale": [
             [
              0,
              "#0d0887"
             ],
             [
              0.1111111111111111,
              "#46039f"
             ],
             [
              0.2222222222222222,
              "#7201a8"
             ],
             [
              0.3333333333333333,
              "#9c179e"
             ],
             [
              0.4444444444444444,
              "#bd3786"
             ],
             [
              0.5555555555555556,
              "#d8576b"
             ],
             [
              0.6666666666666666,
              "#ed7953"
             ],
             [
              0.7777777777777778,
              "#fb9f3a"
             ],
             [
              0.8888888888888888,
              "#fdca26"
             ],
             [
              1,
              "#f0f921"
             ]
            ],
            "type": "heatmap"
           }
          ],
          "heatmapgl": [
           {
            "colorbar": {
             "outlinewidth": 0,
             "ticks": ""
            },
            "colorscale": [
             [
              0,
              "#0d0887"
             ],
             [
              0.1111111111111111,
              "#46039f"
             ],
             [
              0.2222222222222222,
              "#7201a8"
             ],
             [
              0.3333333333333333,
              "#9c179e"
             ],
             [
              0.4444444444444444,
              "#bd3786"
             ],
             [
              0.5555555555555556,
              "#d8576b"
             ],
             [
              0.6666666666666666,
              "#ed7953"
             ],
             [
              0.7777777777777778,
              "#fb9f3a"
             ],
             [
              0.8888888888888888,
              "#fdca26"
             ],
             [
              1,
              "#f0f921"
             ]
            ],
            "type": "heatmapgl"
           }
          ],
          "histogram": [
           {
            "marker": {
             "pattern": {
              "fillmode": "overlay",
              "size": 10,
              "solidity": 0.2
             }
            },
            "type": "histogram"
           }
          ],
          "histogram2d": [
           {
            "colorbar": {
             "outlinewidth": 0,
             "ticks": ""
            },
            "colorscale": [
             [
              0,
              "#0d0887"
             ],
             [
              0.1111111111111111,
              "#46039f"
             ],
             [
              0.2222222222222222,
              "#7201a8"
             ],
             [
              0.3333333333333333,
              "#9c179e"
             ],
             [
              0.4444444444444444,
              "#bd3786"
             ],
             [
              0.5555555555555556,
              "#d8576b"
             ],
             [
              0.6666666666666666,
              "#ed7953"
             ],
             [
              0.7777777777777778,
              "#fb9f3a"
             ],
             [
              0.8888888888888888,
              "#fdca26"
             ],
             [
              1,
              "#f0f921"
             ]
            ],
            "type": "histogram2d"
           }
          ],
          "histogram2dcontour": [
           {
            "colorbar": {
             "outlinewidth": 0,
             "ticks": ""
            },
            "colorscale": [
             [
              0,
              "#0d0887"
             ],
             [
              0.1111111111111111,
              "#46039f"
             ],
             [
              0.2222222222222222,
              "#7201a8"
             ],
             [
              0.3333333333333333,
              "#9c179e"
             ],
             [
              0.4444444444444444,
              "#bd3786"
             ],
             [
              0.5555555555555556,
              "#d8576b"
             ],
             [
              0.6666666666666666,
              "#ed7953"
             ],
             [
              0.7777777777777778,
              "#fb9f3a"
             ],
             [
              0.8888888888888888,
              "#fdca26"
             ],
             [
              1,
              "#f0f921"
             ]
            ],
            "type": "histogram2dcontour"
           }
          ],
          "mesh3d": [
           {
            "colorbar": {
             "outlinewidth": 0,
             "ticks": ""
            },
            "type": "mesh3d"
           }
          ],
          "parcoords": [
           {
            "line": {
             "colorbar": {
              "outlinewidth": 0,
              "ticks": ""
             }
            },
            "type": "parcoords"
           }
          ],
          "pie": [
           {
            "automargin": true,
            "type": "pie"
           }
          ],
          "scatter": [
           {
            "fillpattern": {
             "fillmode": "overlay",
             "size": 10,
             "solidity": 0.2
            },
            "type": "scatter"
           }
          ],
          "scatter3d": [
           {
            "line": {
             "colorbar": {
              "outlinewidth": 0,
              "ticks": ""
             }
            },
            "marker": {
             "colorbar": {
              "outlinewidth": 0,
              "ticks": ""
             }
            },
            "type": "scatter3d"
           }
          ],
          "scattercarpet": [
           {
            "marker": {
             "colorbar": {
              "outlinewidth": 0,
              "ticks": ""
             }
            },
            "type": "scattercarpet"
           }
          ],
          "scattergeo": [
           {
            "marker": {
             "colorbar": {
              "outlinewidth": 0,
              "ticks": ""
             }
            },
            "type": "scattergeo"
           }
          ],
          "scattergl": [
           {
            "marker": {
             "colorbar": {
              "outlinewidth": 0,
              "ticks": ""
             }
            },
            "type": "scattergl"
           }
          ],
          "scattermapbox": [
           {
            "marker": {
             "colorbar": {
              "outlinewidth": 0,
              "ticks": ""
             }
            },
            "type": "scattermapbox"
           }
          ],
          "scatterpolar": [
           {
            "marker": {
             "colorbar": {
              "outlinewidth": 0,
              "ticks": ""
             }
            },
            "type": "scatterpolar"
           }
          ],
          "scatterpolargl": [
           {
            "marker": {
             "colorbar": {
              "outlinewidth": 0,
              "ticks": ""
             }
            },
            "type": "scatterpolargl"
           }
          ],
          "scatterternary": [
           {
            "marker": {
             "colorbar": {
              "outlinewidth": 0,
              "ticks": ""
             }
            },
            "type": "scatterternary"
           }
          ],
          "surface": [
           {
            "colorbar": {
             "outlinewidth": 0,
             "ticks": ""
            },
            "colorscale": [
             [
              0,
              "#0d0887"
             ],
             [
              0.1111111111111111,
              "#46039f"
             ],
             [
              0.2222222222222222,
              "#7201a8"
             ],
             [
              0.3333333333333333,
              "#9c179e"
             ],
             [
              0.4444444444444444,
              "#bd3786"
             ],
             [
              0.5555555555555556,
              "#d8576b"
             ],
             [
              0.6666666666666666,
              "#ed7953"
             ],
             [
              0.7777777777777778,
              "#fb9f3a"
             ],
             [
              0.8888888888888888,
              "#fdca26"
             ],
             [
              1,
              "#f0f921"
             ]
            ],
            "type": "surface"
           }
          ],
          "table": [
           {
            "cells": {
             "fill": {
              "color": "#EBF0F8"
             },
             "line": {
              "color": "white"
             }
            },
            "header": {
             "fill": {
              "color": "#C8D4E3"
             },
             "line": {
              "color": "white"
             }
            },
            "type": "table"
           }
          ]
         },
         "layout": {
          "annotationdefaults": {
           "arrowcolor": "#2a3f5f",
           "arrowhead": 0,
           "arrowwidth": 1
          },
          "autotypenumbers": "strict",
          "coloraxis": {
           "colorbar": {
            "outlinewidth": 0,
            "ticks": ""
           }
          },
          "colorscale": {
           "diverging": [
            [
             0,
             "#8e0152"
            ],
            [
             0.1,
             "#c51b7d"
            ],
            [
             0.2,
             "#de77ae"
            ],
            [
             0.3,
             "#f1b6da"
            ],
            [
             0.4,
             "#fde0ef"
            ],
            [
             0.5,
             "#f7f7f7"
            ],
            [
             0.6,
             "#e6f5d0"
            ],
            [
             0.7,
             "#b8e186"
            ],
            [
             0.8,
             "#7fbc41"
            ],
            [
             0.9,
             "#4d9221"
            ],
            [
             1,
             "#276419"
            ]
           ],
           "sequential": [
            [
             0,
             "#0d0887"
            ],
            [
             0.1111111111111111,
             "#46039f"
            ],
            [
             0.2222222222222222,
             "#7201a8"
            ],
            [
             0.3333333333333333,
             "#9c179e"
            ],
            [
             0.4444444444444444,
             "#bd3786"
            ],
            [
             0.5555555555555556,
             "#d8576b"
            ],
            [
             0.6666666666666666,
             "#ed7953"
            ],
            [
             0.7777777777777778,
             "#fb9f3a"
            ],
            [
             0.8888888888888888,
             "#fdca26"
            ],
            [
             1,
             "#f0f921"
            ]
           ],
           "sequentialminus": [
            [
             0,
             "#0d0887"
            ],
            [
             0.1111111111111111,
             "#46039f"
            ],
            [
             0.2222222222222222,
             "#7201a8"
            ],
            [
             0.3333333333333333,
             "#9c179e"
            ],
            [
             0.4444444444444444,
             "#bd3786"
            ],
            [
             0.5555555555555556,
             "#d8576b"
            ],
            [
             0.6666666666666666,
             "#ed7953"
            ],
            [
             0.7777777777777778,
             "#fb9f3a"
            ],
            [
             0.8888888888888888,
             "#fdca26"
            ],
            [
             1,
             "#f0f921"
            ]
           ]
          },
          "colorway": [
           "#636efa",
           "#EF553B",
           "#00cc96",
           "#ab63fa",
           "#FFA15A",
           "#19d3f3",
           "#FF6692",
           "#B6E880",
           "#FF97FF",
           "#FECB52"
          ],
          "font": {
           "color": "#2a3f5f"
          },
          "geo": {
           "bgcolor": "white",
           "lakecolor": "white",
           "landcolor": "#E5ECF6",
           "showlakes": true,
           "showland": true,
           "subunitcolor": "white"
          },
          "hoverlabel": {
           "align": "left"
          },
          "hovermode": "closest",
          "mapbox": {
           "style": "light"
          },
          "paper_bgcolor": "white",
          "plot_bgcolor": "#E5ECF6",
          "polar": {
           "angularaxis": {
            "gridcolor": "white",
            "linecolor": "white",
            "ticks": ""
           },
           "bgcolor": "#E5ECF6",
           "radialaxis": {
            "gridcolor": "white",
            "linecolor": "white",
            "ticks": ""
           }
          },
          "scene": {
           "xaxis": {
            "backgroundcolor": "#E5ECF6",
            "gridcolor": "white",
            "gridwidth": 2,
            "linecolor": "white",
            "showbackground": true,
            "ticks": "",
            "zerolinecolor": "white"
           },
           "yaxis": {
            "backgroundcolor": "#E5ECF6",
            "gridcolor": "white",
            "gridwidth": 2,
            "linecolor": "white",
            "showbackground": true,
            "ticks": "",
            "zerolinecolor": "white"
           },
           "zaxis": {
            "backgroundcolor": "#E5ECF6",
            "gridcolor": "white",
            "gridwidth": 2,
            "linecolor": "white",
            "showbackground": true,
            "ticks": "",
            "zerolinecolor": "white"
           }
          },
          "shapedefaults": {
           "line": {
            "color": "#2a3f5f"
           }
          },
          "ternary": {
           "aaxis": {
            "gridcolor": "white",
            "linecolor": "white",
            "ticks": ""
           },
           "baxis": {
            "gridcolor": "white",
            "linecolor": "white",
            "ticks": ""
           },
           "bgcolor": "#E5ECF6",
           "caxis": {
            "gridcolor": "white",
            "linecolor": "white",
            "ticks": ""
           }
          },
          "title": {
           "x": 0.05
          },
          "xaxis": {
           "automargin": true,
           "gridcolor": "white",
           "linecolor": "white",
           "ticks": "",
           "title": {
            "standoff": 15
           },
           "zerolinecolor": "white",
           "zerolinewidth": 2
          },
          "yaxis": {
           "automargin": true,
           "gridcolor": "white",
           "linecolor": "white",
           "ticks": "",
           "title": {
            "standoff": 15
           },
           "zerolinecolor": "white",
           "zerolinewidth": 2
          }
         }
        },
        "title": {
         "text": "Воронка юзеров успешно привязавшых соц. сеть для разных ОС"
        },
        "xaxis": {
         "anchor": "y",
         "domain": [
          0,
          1
         ],
         "title": {
          "text": "number"
         }
        },
        "yaxis": {
         "anchor": "x",
         "domain": [
          0,
          1
         ],
         "title": {
          "text": "stage"
         }
        }
       }
      }
     },
     "metadata": {},
     "output_type": "display_data"
    }
   ],
   "source": [
    "stages = ['Общее кол-во юзеров', 'Кол-во юзеров привязало соц. сеть']\n",
    "df_android = pd.DataFrame(dict(number=[andr_user_all, andr_user_true], stage=stages))\n",
    "df_android['OS'] = 'Android'\n",
    "df_ios = pd.DataFrame(dict(number=[ios_user_all, ios_user_true], stage=stages))\n",
    "df_ios['OS'] = 'IOS'\n",
    "df_os = pd.concat([df_android, df_ios], axis=0)\n",
    "fig = px.funnel(df_os, x='number', y='stage', color='OS', title='Воронка юзеров успешно привязавшых соц. сеть для разных ОС')\n",
    "fig.show()"
   ]
  },
  {
   "cell_type": "markdown",
   "metadata": {},
   "source": [
    "**Добавим в качестве шага для воронки пользователей, которые начинали привязывать соц-сети**"
   ]
  },
  {
   "cell_type": "code",
   "execution_count": 72,
   "metadata": {},
   "outputs": [],
   "source": [
    "andr_user_all = len(df[df['platform']=='Android']['user_id'].unique())\n",
    "\n",
    "andr_user_start = len(df[(df['platform']=='Android')\\\n",
    "                    & (df['event_type']=='link_account_start')]['user_id'].unique())\n",
    "\n",
    "andr_user_true = len(df[(df['platform']=='Android')\\\n",
    "                    & (df['event_type']=='link_account_success')]['user_id'].unique())\n",
    "\n",
    "\n",
    "ios_user_all = len(df[df['platform']=='iOS']['user_id'].unique())\n",
    "\n",
    "ios_user_start = len(df[(df['platform']=='iOS')\\\n",
    "                    & (df['event_type']=='link_account_start')]['user_id'].unique())\n",
    "\n",
    "ios_user_true = len(df[(df['platform']=='iOS')\\\n",
    "                    & (df['event_type']=='link_account_success')]['user_id'].unique())"
   ]
  },
  {
   "cell_type": "code",
   "execution_count": 73,
   "metadata": {},
   "outputs": [
    {
     "data": {
      "application/vnd.plotly.v1+json": {
       "config": {
        "plotlyServerURL": "https://plot.ly"
       },
       "data": [
        {
         "hovertemplate": "OS=Android<br>number=%{x}<br>stage=%{y}<extra></extra>",
         "legendgroup": "Android",
         "marker": {
          "color": "#636efa"
         },
         "name": "Android",
         "orientation": "h",
         "showlegend": true,
         "type": "funnel",
         "x": [
          3512,
          2604,
          1348
         ],
         "xaxis": "x",
         "y": [
          "Общее кол-во юзеров",
          "Кол-во юзеров начинавших привязывать соц. сеть",
          "Кол-во юзеров привязало соц. сеть"
         ],
         "yaxis": "y"
        },
        {
         "hovertemplate": "OS=IOS<br>number=%{x}<br>stage=%{y}<extra></extra>",
         "legendgroup": "IOS",
         "marker": {
          "color": "#EF553B"
         },
         "name": "IOS",
         "orientation": "h",
         "showlegend": true,
         "type": "funnel",
         "x": [
          1506,
          1206,
          900
         ],
         "xaxis": "x",
         "y": [
          "Общее кол-во юзеров",
          "Кол-во юзеров начинавших привязывать соц. сеть",
          "Кол-во юзеров привязало соц. сеть"
         ],
         "yaxis": "y"
        }
       ],
       "layout": {
        "legend": {
         "title": {
          "text": "OS"
         },
         "tracegroupgap": 0
        },
        "template": {
         "data": {
          "bar": [
           {
            "error_x": {
             "color": "#2a3f5f"
            },
            "error_y": {
             "color": "#2a3f5f"
            },
            "marker": {
             "line": {
              "color": "#E5ECF6",
              "width": 0.5
             },
             "pattern": {
              "fillmode": "overlay",
              "size": 10,
              "solidity": 0.2
             }
            },
            "type": "bar"
           }
          ],
          "barpolar": [
           {
            "marker": {
             "line": {
              "color": "#E5ECF6",
              "width": 0.5
             },
             "pattern": {
              "fillmode": "overlay",
              "size": 10,
              "solidity": 0.2
             }
            },
            "type": "barpolar"
           }
          ],
          "carpet": [
           {
            "aaxis": {
             "endlinecolor": "#2a3f5f",
             "gridcolor": "white",
             "linecolor": "white",
             "minorgridcolor": "white",
             "startlinecolor": "#2a3f5f"
            },
            "baxis": {
             "endlinecolor": "#2a3f5f",
             "gridcolor": "white",
             "linecolor": "white",
             "minorgridcolor": "white",
             "startlinecolor": "#2a3f5f"
            },
            "type": "carpet"
           }
          ],
          "choropleth": [
           {
            "colorbar": {
             "outlinewidth": 0,
             "ticks": ""
            },
            "type": "choropleth"
           }
          ],
          "contour": [
           {
            "colorbar": {
             "outlinewidth": 0,
             "ticks": ""
            },
            "colorscale": [
             [
              0,
              "#0d0887"
             ],
             [
              0.1111111111111111,
              "#46039f"
             ],
             [
              0.2222222222222222,
              "#7201a8"
             ],
             [
              0.3333333333333333,
              "#9c179e"
             ],
             [
              0.4444444444444444,
              "#bd3786"
             ],
             [
              0.5555555555555556,
              "#d8576b"
             ],
             [
              0.6666666666666666,
              "#ed7953"
             ],
             [
              0.7777777777777778,
              "#fb9f3a"
             ],
             [
              0.8888888888888888,
              "#fdca26"
             ],
             [
              1,
              "#f0f921"
             ]
            ],
            "type": "contour"
           }
          ],
          "contourcarpet": [
           {
            "colorbar": {
             "outlinewidth": 0,
             "ticks": ""
            },
            "type": "contourcarpet"
           }
          ],
          "heatmap": [
           {
            "colorbar": {
             "outlinewidth": 0,
             "ticks": ""
            },
            "colorscale": [
             [
              0,
              "#0d0887"
             ],
             [
              0.1111111111111111,
              "#46039f"
             ],
             [
              0.2222222222222222,
              "#7201a8"
             ],
             [
              0.3333333333333333,
              "#9c179e"
             ],
             [
              0.4444444444444444,
              "#bd3786"
             ],
             [
              0.5555555555555556,
              "#d8576b"
             ],
             [
              0.6666666666666666,
              "#ed7953"
             ],
             [
              0.7777777777777778,
              "#fb9f3a"
             ],
             [
              0.8888888888888888,
              "#fdca26"
             ],
             [
              1,
              "#f0f921"
             ]
            ],
            "type": "heatmap"
           }
          ],
          "heatmapgl": [
           {
            "colorbar": {
             "outlinewidth": 0,
             "ticks": ""
            },
            "colorscale": [
             [
              0,
              "#0d0887"
             ],
             [
              0.1111111111111111,
              "#46039f"
             ],
             [
              0.2222222222222222,
              "#7201a8"
             ],
             [
              0.3333333333333333,
              "#9c179e"
             ],
             [
              0.4444444444444444,
              "#bd3786"
             ],
             [
              0.5555555555555556,
              "#d8576b"
             ],
             [
              0.6666666666666666,
              "#ed7953"
             ],
             [
              0.7777777777777778,
              "#fb9f3a"
             ],
             [
              0.8888888888888888,
              "#fdca26"
             ],
             [
              1,
              "#f0f921"
             ]
            ],
            "type": "heatmapgl"
           }
          ],
          "histogram": [
           {
            "marker": {
             "pattern": {
              "fillmode": "overlay",
              "size": 10,
              "solidity": 0.2
             }
            },
            "type": "histogram"
           }
          ],
          "histogram2d": [
           {
            "colorbar": {
             "outlinewidth": 0,
             "ticks": ""
            },
            "colorscale": [
             [
              0,
              "#0d0887"
             ],
             [
              0.1111111111111111,
              "#46039f"
             ],
             [
              0.2222222222222222,
              "#7201a8"
             ],
             [
              0.3333333333333333,
              "#9c179e"
             ],
             [
              0.4444444444444444,
              "#bd3786"
             ],
             [
              0.5555555555555556,
              "#d8576b"
             ],
             [
              0.6666666666666666,
              "#ed7953"
             ],
             [
              0.7777777777777778,
              "#fb9f3a"
             ],
             [
              0.8888888888888888,
              "#fdca26"
             ],
             [
              1,
              "#f0f921"
             ]
            ],
            "type": "histogram2d"
           }
          ],
          "histogram2dcontour": [
           {
            "colorbar": {
             "outlinewidth": 0,
             "ticks": ""
            },
            "colorscale": [
             [
              0,
              "#0d0887"
             ],
             [
              0.1111111111111111,
              "#46039f"
             ],
             [
              0.2222222222222222,
              "#7201a8"
             ],
             [
              0.3333333333333333,
              "#9c179e"
             ],
             [
              0.4444444444444444,
              "#bd3786"
             ],
             [
              0.5555555555555556,
              "#d8576b"
             ],
             [
              0.6666666666666666,
              "#ed7953"
             ],
             [
              0.7777777777777778,
              "#fb9f3a"
             ],
             [
              0.8888888888888888,
              "#fdca26"
             ],
             [
              1,
              "#f0f921"
             ]
            ],
            "type": "histogram2dcontour"
           }
          ],
          "mesh3d": [
           {
            "colorbar": {
             "outlinewidth": 0,
             "ticks": ""
            },
            "type": "mesh3d"
           }
          ],
          "parcoords": [
           {
            "line": {
             "colorbar": {
              "outlinewidth": 0,
              "ticks": ""
             }
            },
            "type": "parcoords"
           }
          ],
          "pie": [
           {
            "automargin": true,
            "type": "pie"
           }
          ],
          "scatter": [
           {
            "fillpattern": {
             "fillmode": "overlay",
             "size": 10,
             "solidity": 0.2
            },
            "type": "scatter"
           }
          ],
          "scatter3d": [
           {
            "line": {
             "colorbar": {
              "outlinewidth": 0,
              "ticks": ""
             }
            },
            "marker": {
             "colorbar": {
              "outlinewidth": 0,
              "ticks": ""
             }
            },
            "type": "scatter3d"
           }
          ],
          "scattercarpet": [
           {
            "marker": {
             "colorbar": {
              "outlinewidth": 0,
              "ticks": ""
             }
            },
            "type": "scattercarpet"
           }
          ],
          "scattergeo": [
           {
            "marker": {
             "colorbar": {
              "outlinewidth": 0,
              "ticks": ""
             }
            },
            "type": "scattergeo"
           }
          ],
          "scattergl": [
           {
            "marker": {
             "colorbar": {
              "outlinewidth": 0,
              "ticks": ""
             }
            },
            "type": "scattergl"
           }
          ],
          "scattermapbox": [
           {
            "marker": {
             "colorbar": {
              "outlinewidth": 0,
              "ticks": ""
             }
            },
            "type": "scattermapbox"
           }
          ],
          "scatterpolar": [
           {
            "marker": {
             "colorbar": {
              "outlinewidth": 0,
              "ticks": ""
             }
            },
            "type": "scatterpolar"
           }
          ],
          "scatterpolargl": [
           {
            "marker": {
             "colorbar": {
              "outlinewidth": 0,
              "ticks": ""
             }
            },
            "type": "scatterpolargl"
           }
          ],
          "scatterternary": [
           {
            "marker": {
             "colorbar": {
              "outlinewidth": 0,
              "ticks": ""
             }
            },
            "type": "scatterternary"
           }
          ],
          "surface": [
           {
            "colorbar": {
             "outlinewidth": 0,
             "ticks": ""
            },
            "colorscale": [
             [
              0,
              "#0d0887"
             ],
             [
              0.1111111111111111,
              "#46039f"
             ],
             [
              0.2222222222222222,
              "#7201a8"
             ],
             [
              0.3333333333333333,
              "#9c179e"
             ],
             [
              0.4444444444444444,
              "#bd3786"
             ],
             [
              0.5555555555555556,
              "#d8576b"
             ],
             [
              0.6666666666666666,
              "#ed7953"
             ],
             [
              0.7777777777777778,
              "#fb9f3a"
             ],
             [
              0.8888888888888888,
              "#fdca26"
             ],
             [
              1,
              "#f0f921"
             ]
            ],
            "type": "surface"
           }
          ],
          "table": [
           {
            "cells": {
             "fill": {
              "color": "#EBF0F8"
             },
             "line": {
              "color": "white"
             }
            },
            "header": {
             "fill": {
              "color": "#C8D4E3"
             },
             "line": {
              "color": "white"
             }
            },
            "type": "table"
           }
          ]
         },
         "layout": {
          "annotationdefaults": {
           "arrowcolor": "#2a3f5f",
           "arrowhead": 0,
           "arrowwidth": 1
          },
          "autotypenumbers": "strict",
          "coloraxis": {
           "colorbar": {
            "outlinewidth": 0,
            "ticks": ""
           }
          },
          "colorscale": {
           "diverging": [
            [
             0,
             "#8e0152"
            ],
            [
             0.1,
             "#c51b7d"
            ],
            [
             0.2,
             "#de77ae"
            ],
            [
             0.3,
             "#f1b6da"
            ],
            [
             0.4,
             "#fde0ef"
            ],
            [
             0.5,
             "#f7f7f7"
            ],
            [
             0.6,
             "#e6f5d0"
            ],
            [
             0.7,
             "#b8e186"
            ],
            [
             0.8,
             "#7fbc41"
            ],
            [
             0.9,
             "#4d9221"
            ],
            [
             1,
             "#276419"
            ]
           ],
           "sequential": [
            [
             0,
             "#0d0887"
            ],
            [
             0.1111111111111111,
             "#46039f"
            ],
            [
             0.2222222222222222,
             "#7201a8"
            ],
            [
             0.3333333333333333,
             "#9c179e"
            ],
            [
             0.4444444444444444,
             "#bd3786"
            ],
            [
             0.5555555555555556,
             "#d8576b"
            ],
            [
             0.6666666666666666,
             "#ed7953"
            ],
            [
             0.7777777777777778,
             "#fb9f3a"
            ],
            [
             0.8888888888888888,
             "#fdca26"
            ],
            [
             1,
             "#f0f921"
            ]
           ],
           "sequentialminus": [
            [
             0,
             "#0d0887"
            ],
            [
             0.1111111111111111,
             "#46039f"
            ],
            [
             0.2222222222222222,
             "#7201a8"
            ],
            [
             0.3333333333333333,
             "#9c179e"
            ],
            [
             0.4444444444444444,
             "#bd3786"
            ],
            [
             0.5555555555555556,
             "#d8576b"
            ],
            [
             0.6666666666666666,
             "#ed7953"
            ],
            [
             0.7777777777777778,
             "#fb9f3a"
            ],
            [
             0.8888888888888888,
             "#fdca26"
            ],
            [
             1,
             "#f0f921"
            ]
           ]
          },
          "colorway": [
           "#636efa",
           "#EF553B",
           "#00cc96",
           "#ab63fa",
           "#FFA15A",
           "#19d3f3",
           "#FF6692",
           "#B6E880",
           "#FF97FF",
           "#FECB52"
          ],
          "font": {
           "color": "#2a3f5f"
          },
          "geo": {
           "bgcolor": "white",
           "lakecolor": "white",
           "landcolor": "#E5ECF6",
           "showlakes": true,
           "showland": true,
           "subunitcolor": "white"
          },
          "hoverlabel": {
           "align": "left"
          },
          "hovermode": "closest",
          "mapbox": {
           "style": "light"
          },
          "paper_bgcolor": "white",
          "plot_bgcolor": "#E5ECF6",
          "polar": {
           "angularaxis": {
            "gridcolor": "white",
            "linecolor": "white",
            "ticks": ""
           },
           "bgcolor": "#E5ECF6",
           "radialaxis": {
            "gridcolor": "white",
            "linecolor": "white",
            "ticks": ""
           }
          },
          "scene": {
           "xaxis": {
            "backgroundcolor": "#E5ECF6",
            "gridcolor": "white",
            "gridwidth": 2,
            "linecolor": "white",
            "showbackground": true,
            "ticks": "",
            "zerolinecolor": "white"
           },
           "yaxis": {
            "backgroundcolor": "#E5ECF6",
            "gridcolor": "white",
            "gridwidth": 2,
            "linecolor": "white",
            "showbackground": true,
            "ticks": "",
            "zerolinecolor": "white"
           },
           "zaxis": {
            "backgroundcolor": "#E5ECF6",
            "gridcolor": "white",
            "gridwidth": 2,
            "linecolor": "white",
            "showbackground": true,
            "ticks": "",
            "zerolinecolor": "white"
           }
          },
          "shapedefaults": {
           "line": {
            "color": "#2a3f5f"
           }
          },
          "ternary": {
           "aaxis": {
            "gridcolor": "white",
            "linecolor": "white",
            "ticks": ""
           },
           "baxis": {
            "gridcolor": "white",
            "linecolor": "white",
            "ticks": ""
           },
           "bgcolor": "#E5ECF6",
           "caxis": {
            "gridcolor": "white",
            "linecolor": "white",
            "ticks": ""
           }
          },
          "title": {
           "x": 0.05
          },
          "xaxis": {
           "automargin": true,
           "gridcolor": "white",
           "linecolor": "white",
           "ticks": "",
           "title": {
            "standoff": 15
           },
           "zerolinecolor": "white",
           "zerolinewidth": 2
          },
          "yaxis": {
           "automargin": true,
           "gridcolor": "white",
           "linecolor": "white",
           "ticks": "",
           "title": {
            "standoff": 15
           },
           "zerolinecolor": "white",
           "zerolinewidth": 2
          }
         }
        },
        "title": {
         "text": "Увеличенная воронка юзеров для разных ОС"
        },
        "xaxis": {
         "anchor": "y",
         "domain": [
          0,
          1
         ],
         "title": {
          "text": "number"
         }
        },
        "yaxis": {
         "anchor": "x",
         "domain": [
          0,
          1
         ],
         "title": {
          "text": "stage"
         }
        }
       }
      }
     },
     "metadata": {},
     "output_type": "display_data"
    }
   ],
   "source": [
    "stages = [\n",
    "    'Общее кол-во юзеров',\n",
    "    'Кол-во юзеров начинавших привязывать соц. сеть',\n",
    "    'Кол-во юзеров привязало соц. сеть'\n",
    "    ]\n",
    "\n",
    "df_android = pd.DataFrame(dict(number=[andr_user_all, andr_user_start, andr_user_true], stage=stages))\n",
    "df_android['OS'] = 'Android'\n",
    "df_ios = pd.DataFrame(dict(number=[ios_user_all, ios_user_start, ios_user_true], stage=stages))\n",
    "df_ios['OS'] = 'IOS'\n",
    "df_os = pd.concat([df_android, df_ios], axis=0)\n",
    "fig = px.funnel(df_os, x='number', y='stage', color='OS', title='Увеличенная воронка юзеров для разных ОС')\n",
    "fig.show()"
   ]
  },
  {
   "cell_type": "markdown",
   "metadata": {},
   "source": [
    "#### Выводы по блоку 3:\n",
    "\n",
    "1) ОС представленные в датасете: аndroid и ios, относятся как **70:30** соответственно, с учетом того, что у пользователь может сидеть с нескольких устройств\n",
    "\n",
    "2) Конверсия по кол-ву успешно привязанных соц.сетей **больше у пользователей операционной системы ios**"
   ]
  },
  {
   "cell_type": "markdown",
   "metadata": {},
   "source": [
    "### Блок 4. Соц. сети"
   ]
  },
  {
   "cell_type": "code",
   "execution_count": 74,
   "metadata": {},
   "outputs": [],
   "source": [
    "df = pd.read_excel('test_project.xlsx')"
   ]
  },
  {
   "cell_type": "code",
   "execution_count": 149,
   "metadata": {},
   "outputs": [
    {
     "data": {
      "image/png": "[encoded data removed]",
      "text/plain": [
       "<Figure size 800x800 with 3 Axes>"
      ]
     },
     "metadata": {},
     "output_type": "display_data"
    }
   ],
   "source": [
    "soc_net_os = df[df['event_type']=='link_account_success']['event_properties']\\\n",
    "        .apply(lambda x: x.split(':')[1][2:-2]).value_counts()[:-1]\n",
    "\n",
    "\n",
    "soc_net_android = df[(df['event_type']=='link_account_success')\\\n",
    "                &(df['platform']=='Android')]['event_properties'].apply(\n",
    "                    lambda x: x.split(':')[1][2:-2]\n",
    "                ).value_counts()[:-1]\n",
    "\n",
    "\n",
    "soc_net_ios = df[(df['event_type']=='link_account_success')\\\n",
    "                &(df['platform']=='iOS')]['event_properties'].apply(\n",
    "                    lambda x: x.split(':')[1][2:-2]\n",
    "                ).value_counts()[:-1]\n",
    "\n",
    "\n",
    "fig = plt.figure(figsize=(8, 8))\n",
    "fig.suptitle('Распределение успешно привязанных социальных сетей')\n",
    "gs = GridSpec(ncols=2, nrows=2, figure=fig)\n",
    "\n",
    "\n",
    "ax1 = plt.subplot(gs[0, :])\n",
    "ax1.pie(soc_net_os.unique(), labels=soc_net_os.index, autopct='%1.0f%%')\n",
    "plt.figtext(0.4, 0.9, 'Общее кол-во')\n",
    "#ax1.title('das')\n",
    "ax2 = fig.add_subplot(gs[1, 0])\n",
    "ax2.pie(soc_net_android.unique(), labels=soc_net_android.index, autopct='%1.0f%%')\n",
    "plt.figtext(0.2, 0.47, 'Кол-во на ОС android')\n",
    "ax3 = fig.add_subplot(gs[1, 1])\n",
    "ax3.pie(soc_net_ios.tolist(), labels=soc_net_ios.index, autopct='%1.0f%%')\n",
    "plt.figtext(0.63, 0.47, 'Кол-во на ОС ios')\n",
    "\n",
    "plt.show()"
   ]
  },
  {
   "cell_type": "markdown",
   "metadata": {},
   "source": [
    "#### Выводы по блоку 4:\n",
    "\n",
    "1) По больше части пользователи привязывают соц. сеть - instagram, также, среди пользователей, популярными являются: telegram, vk и tiktok"
   ]
  }
 ],
 "metadata": {
  "kernelspec": {
   "display_name": "Python 3",
   "language": "python",
   "name": "python3"
  },
  "language_info": {
   "codemirror_mode": {
    "name": "ipython",
    "version": 3
   },
   "file_extension": ".py",
   "mimetype": "text/x-python",
   "name": "python",
   "nbconvert_exporter": "python",
   "pygments_lexer": "ipython3",
   "version": "3.12.1"
  }
 },
 "nbformat": 4,
 "nbformat_minor": 2
}
